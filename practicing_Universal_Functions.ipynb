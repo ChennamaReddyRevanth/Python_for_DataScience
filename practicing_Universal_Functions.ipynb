{
  "nbformat": 4,
  "nbformat_minor": 0,
  "metadata": {
    "colab": {
      "provenance": [],
      "authorship_tag": "ABX9TyM24lTC6bjI4YpVyYC0mU25",
      "include_colab_link": true
    },
    "kernelspec": {
      "name": "python3",
      "display_name": "Python 3"
    },
    "language_info": {
      "name": "python"
    }
  },
  "cells": [
    {
      "cell_type": "markdown",
      "metadata": {
        "id": "view-in-github",
        "colab_type": "text"
      },
      "source": [
        "<a href=\"https://colab.research.google.com/github/ChennamaReddyRevanth/Python_for_DataScience/blob/main/practicing_Universal_Functions.ipynb\" target=\"_parent\"><img src=\"https://colab.research.google.com/assets/colab-badge.svg\" alt=\"Open In Colab\"/></a>"
      ]
    },
    {
      "cell_type": "markdown",
      "source": [
        "##Normal Numpy operations\n"
      ],
      "metadata": {
        "id": "hT0oINiic52-"
      }
    },
    {
      "cell_type": "code",
      "source": [
        "import numpy as np"
      ],
      "metadata": {
        "id": "H_z2352gdYYV"
      },
      "execution_count": null,
      "outputs": []
    },
    {
      "cell_type": "code",
      "source": [
        "x=np.arange(1,6)\n",
        "x"
      ],
      "metadata": {
        "colab": {
          "base_uri": "https://localhost:8080/"
        },
        "id": "9Pq66fnqdgAb",
        "outputId": "f7477ae2-f48a-442a-8581-a7cda4f7d41b"
      },
      "execution_count": null,
      "outputs": [
        {
          "output_type": "execute_result",
          "data": {
            "text/plain": [
              "array([1, 2, 3, 4, 5])"
            ]
          },
          "metadata": {},
          "execution_count": 30
        }
      ]
    },
    {
      "cell_type": "code",
      "source": [
        "print(\"x    :\",x)\n",
        "print(\"x+5  :\",x+5)\n",
        "print(\"x-2  :\", x-2)\n",
        "print(\"x*3  :\",x*3)\n",
        "print(\"x/2  :\",x/2)\n",
        "print(\"x//2 :\",x//2)"
      ],
      "metadata": {
        "colab": {
          "base_uri": "https://localhost:8080/"
        },
        "id": "5coXAiHIdv_4",
        "outputId": "68077376-7bc8-4130-9479-95157273b08c"
      },
      "execution_count": null,
      "outputs": [
        {
          "output_type": "stream",
          "name": "stdout",
          "text": [
            "x    : [1 2 3 4 5]\n",
            "x+5  : [ 6  7  8  9 10]\n",
            "x-2  : [-1  0  1  2  3]\n",
            "x*3  : [ 3  6  9 12 15]\n",
            "x/2  : [0.5 1.  1.5 2.  2.5]\n",
            "x//2 : [0 1 1 2 2]\n"
          ]
        }
      ]
    },
    {
      "cell_type": "markdown",
      "source": [
        "##Array Arithmetic using uninary unversial functions"
      ],
      "metadata": {
        "id": "GQpcxuuSeX_3"
      }
    },
    {
      "cell_type": "code",
      "source": [
        "print(\"x+3  :\",np.add(x,3))\n",
        "print(\"x+1  :\",np.subtract(x,1))\n",
        "print(\"x*3  :\",np.multiply(x,3))\n",
        "print(\"x/2  :\",np.divide(x,2))\n",
        "print(\"x//2 :\",np.floor_divide(x,2))\n",
        "print(\"exponent :\",np.exp(x))\n",
        "print(\"x**2 :\",np.power(x,2))\n",
        "print(\"X%3  :\",np.mod(x,3))"
      ],
      "metadata": {
        "colab": {
          "base_uri": "https://localhost:8080/"
        },
        "id": "sm9_pKzfeTKu",
        "outputId": "1c6e52c6-64f9-4cf0-84f7-465c3ed754a9"
      },
      "execution_count": null,
      "outputs": [
        {
          "output_type": "stream",
          "name": "stdout",
          "text": [
            "x+3  : [4 5 6 7 8]\n",
            "x+1  : [0 1 2 3 4]\n",
            "x*3  : [ 3  6  9 12 15]\n",
            "x/2  : [0.5 1.  1.5 2.  2.5]\n",
            "x//2 : [0 1 1 2 2]\n",
            "exponent : [  2.71828183   7.3890561   20.08553692  54.59815003 148.4131591 ]\n",
            "x**2 : [ 1  4  9 16 25]\n",
            "X%3  : [1 2 0 1 2]\n"
          ]
        }
      ]
    },
    {
      "cell_type": "markdown",
      "source": [
        "Array Arithmetic ucing Binary unversial functions\n"
      ],
      "metadata": {
        "id": "ylVgRzE-gthn"
      }
    },
    {
      "cell_type": "code",
      "source": [
        "y=np.arange(6,11)\n",
        "print(\"x+y  :\",np.add(x,y))\n",
        "print(\"x+1  :\",np.subtract(x,y))\n",
        "print(\"x*3  :\",np.multiply(x,y))\n",
        "print(\"x/2  :\",np.divide(x,y))\n",
        "print(\"x//2 :\",np.floor_divide(x,y))\n",
        "print(\"exponent :\",np.exp(x))\n",
        "print(\"x**2 :\",np.power(x,2))\n",
        "print(\"X%3  :\",np.mod(x,y))\n"
      ],
      "metadata": {
        "colab": {
          "base_uri": "https://localhost:8080/"
        },
        "id": "G02CaFQ2e6R_",
        "outputId": "dd0d7a2d-8c14-40e3-c3b3-7ba8cb17a1c5"
      },
      "execution_count": null,
      "outputs": [
        {
          "output_type": "stream",
          "name": "stdout",
          "text": [
            "x+y  : [ 7  9 11 13 15]\n",
            "x+1  : [-5 -5 -5 -5 -5]\n",
            "x*3  : [ 6 14 24 36 50]\n",
            "x/2  : [0.16666667 0.28571429 0.375      0.44444444 0.5       ]\n",
            "x//2 : [0 0 0 0 0]\n",
            "exponent : [  2.71828183   7.3890561   20.08553692  54.59815003 148.4131591 ]\n",
            "x**2 : [ 1  4  9 16 25]\n",
            "X%3  : [1 2 3 4 5]\n"
          ]
        }
      ]
    },
    {
      "cell_type": "markdown",
      "source": [
        "#Absolute values"
      ],
      "metadata": {
        "id": "lHYr-kw6htJs"
      }
    },
    {
      "cell_type": "code",
      "source": [
        "b=np.arange(-4,5)\n",
        "abs(b)"
      ],
      "metadata": {
        "colab": {
          "base_uri": "https://localhost:8080/"
        },
        "id": "Kr7HI8QQhjaj",
        "outputId": "def57a75-16c5-4fb0-91d2-b99e9987d3cb"
      },
      "execution_count": null,
      "outputs": [
        {
          "output_type": "execute_result",
          "data": {
            "text/plain": [
              "array([4, 3, 2, 1, 0, 1, 2, 3, 4])"
            ]
          },
          "metadata": {},
          "execution_count": 34
        }
      ]
    },
    {
      "cell_type": "markdown",
      "source": [
        "# This ufunc can also handle complex data, in which the absolute value returns the magnitude:"
      ],
      "metadata": {
        "id": "i3h7fqIoiEMC"
      }
    },
    {
      "cell_type": "code",
      "source": [
        "c=np.array([3-4j,4-3j,2+0j,0+2j])\n",
        "abs(c)"
      ],
      "metadata": {
        "colab": {
          "base_uri": "https://localhost:8080/"
        },
        "id": "raNxOR8jiKGC",
        "outputId": "c82c11cd-92e4-4a67-dccf-9fbd61d9b724"
      },
      "execution_count": null,
      "outputs": [
        {
          "output_type": "execute_result",
          "data": {
            "text/plain": [
              "array([5., 5., 2., 2.])"
            ]
          },
          "metadata": {},
          "execution_count": 35
        }
      ]
    },
    {
      "cell_type": "markdown",
      "source": [
        "#Trigonometric functions\n",
        "NumPy provides a large number of useful ufuncs, and some of the most useful for the data scientist are the trigonometric functions. We'll start by defining an array of angles:"
      ],
      "metadata": {
        "id": "s4eaPmqBifXJ"
      }
    },
    {
      "cell_type": "code",
      "source": [
        "rr=np.linspace(0,5,4)\n",
        "print(\"sin(rr)   :\",np.sin(rr))\n",
        "print(\"cos(rr)   :\",np.cos(rr))\n",
        "print(\"tan(rr)   :\",np.tan(rr))\n"
      ],
      "metadata": {
        "colab": {
          "base_uri": "https://localhost:8080/"
        },
        "id": "h_04uhEpiYJZ",
        "outputId": "ae276ecc-b0c1-46c6-a0cf-219d3bd15455"
      },
      "execution_count": null,
      "outputs": [
        {
          "output_type": "stream",
          "name": "stdout",
          "text": [
            "sin(rr)   : [ 0.          0.99540796 -0.19056796 -0.95892427]\n",
            "cos(rr)   : [ 1.         -0.09572355 -0.981674    0.28366219]\n",
            "tan(rr)   : [  0.         -10.39877834   0.19412551  -3.38051501]\n"
          ]
        }
      ]
    },
    {
      "cell_type": "markdown",
      "source": [
        "The values are computed to within machine precision, which is why values that should be zero do not always hit exactly zero. Inverse trigonometric functions are also available:"
      ],
      "metadata": {
        "id": "FAqTo_QXkeCh"
      }
    },
    {
      "cell_type": "code",
      "source": [
        "x=[-1,0,1]\n",
        "print(\"arcsin(rr)   :\",np.arcsin(x))\n",
        "print(\"arccos(rr)   :\",np.arccos(x))\n",
        "print(\"arctan(rr)   :\",np.arctan(x))\n"
      ],
      "metadata": {
        "colab": {
          "base_uri": "https://localhost:8080/"
        },
        "id": "kwhfZcGtjqOb",
        "outputId": "7c7eb44f-3040-4c72-b29b-c138837fc4eb"
      },
      "execution_count": null,
      "outputs": [
        {
          "output_type": "stream",
          "name": "stdout",
          "text": [
            "arcsin(rr)   : [-1.57079633  0.          1.57079633]\n",
            "arccos(rr)   : [3.14159265 1.57079633 0.        ]\n",
            "arctan(rr)   : [-0.78539816  0.          0.78539816]\n"
          ]
        }
      ]
    },
    {
      "cell_type": "markdown",
      "source": [
        "# Exponents and logarithms"
      ],
      "metadata": {
        "id": "guHuddpJlB2N"
      }
    },
    {
      "cell_type": "code",
      "source": [
        "x=[5,4,6,3,2,7]\n",
        "print(\"x    :\",x)\n",
        "print(\"e^x  :\",np.exp(x))\n",
        "print(\"2^x  :\",np.exp2(x))\n",
        "print(\"3^x  :\",np.power(3,x))"
      ],
      "metadata": {
        "colab": {
          "base_uri": "https://localhost:8080/"
        },
        "id": "ibAJrZbRkqpQ",
        "outputId": "a53fa4e3-79fc-4fce-c7cc-5c42370a243d"
      },
      "execution_count": null,
      "outputs": [
        {
          "output_type": "stream",
          "name": "stdout",
          "text": [
            "x    : [5, 4, 6, 3, 2, 7]\n",
            "e^x  : [ 148.4131591    54.59815003  403.42879349   20.08553692    7.3890561\n",
            " 1096.63315843]\n",
            "2^x  : [ 32.  16.  64.   8.   4. 128.]\n",
            "3^x  : [ 243   81  729   27    9 2187]\n"
          ]
        }
      ]
    },
    {
      "cell_type": "markdown",
      "source": [
        "The inverse of the exponentials, the logarithms, are also available. The basic np.log gives the natural logarithm; if you prefer to compute the base-2 logarithm or the base-10 logarithm, these are available as well:\n",
        "\n"
      ],
      "metadata": {
        "id": "9sY1xIVNm8fZ"
      }
    },
    {
      "cell_type": "code",
      "source": [
        "x=[1,2,4,7,10]\n",
        "print(\"ln(x)   :\",np.log(x))\n",
        "print(\"log2(x) :\",np.log2(x))\n",
        "print(\"log10(x):\",np.log10(x))\n"
      ],
      "metadata": {
        "colab": {
          "base_uri": "https://localhost:8080/"
        },
        "id": "WRuYnBS-nAa-",
        "outputId": "e7f7ab20-92f6-4f99-c12a-000b619850ad"
      },
      "execution_count": null,
      "outputs": [
        {
          "output_type": "stream",
          "name": "stdout",
          "text": [
            "ln(x)   : [0.         0.69314718 1.38629436 1.94591015 2.30258509]\n",
            "log2(x) : [0.         1.         2.         2.80735492 3.32192809]\n",
            "log10(x): [0.         0.30103    0.60205999 0.84509804 1.        ]\n"
          ]
        }
      ]
    },
    {
      "cell_type": "code",
      "source": [],
      "metadata": {
        "id": "Un95aJ5JnWg0"
      },
      "execution_count": null,
      "outputs": []
    },
    {
      "cell_type": "markdown",
      "source": [
        "#aggregates"
      ],
      "metadata": {
        "id": "rFGT34KRpwN8"
      }
    },
    {
      "cell_type": "markdown",
      "source": [
        "For binary ufuncs, there are some interesting aggregates that can be computed directly from the object. For example, if we'd like to reduce an array with a particular operation, we can use the reduce method of any ufunc. A reduce repeatedly applies a given operation to the elements of an array until only a single result remains.\n",
        "\n",
        "For example, calling reduce on the add ufunc returns the sum of all elements in the array:"
      ],
      "metadata": {
        "id": "TGYCUwxZp1PZ"
      }
    },
    {
      "cell_type": "code",
      "source": [
        "x = np.arange(1, 6)\n",
        "print(np.add.reduce(x))\n",
        "print(np.multiply.reduce(x))\n",
        "\n",
        "print(np.add.accumulate(x))\n",
        "\n",
        "print(np.multiply.accumulate(x))"
      ],
      "metadata": {
        "colab": {
          "base_uri": "https://localhost:8080/"
        },
        "id": "uyNOCY2WqZLI",
        "outputId": "1bd7c213-3e59-45b9-e2f2-9b859875ac29"
      },
      "execution_count": null,
      "outputs": [
        {
          "output_type": "stream",
          "name": "stdout",
          "text": [
            "15\n",
            "120\n",
            "[ 1  3  6 10 15]\n",
            "[  1   2   6  24 120]\n"
          ]
        }
      ]
    },
    {
      "cell_type": "code",
      "source": [],
      "metadata": {
        "id": "1CHmUo9Krh9k"
      },
      "execution_count": null,
      "outputs": []
    },
    {
      "cell_type": "markdown",
      "source": [
        "# How to create your own UFUNC"
      ],
      "metadata": {
        "id": "FsNkRkyKtL6w"
      }
    },
    {
      "cell_type": "code",
      "source": [
        "import numpy as np\n",
        "def subtract(x,y,z):\n",
        "  return (x-y-z)\n",
        "subtract=np.frompyfunc(subtract,3,1)\n",
        "print(subtract([8,7,9],[5,3,4],[1,2,3]))"
      ],
      "metadata": {
        "colab": {
          "base_uri": "https://localhost:8080/"
        },
        "id": "5p3PWefbtSHl",
        "outputId": "c9719beb-e9c9-466a-b72f-72475c337c6f"
      },
      "execution_count": null,
      "outputs": [
        {
          "output_type": "stream",
          "name": "stdout",
          "text": [
            "[2 2 2]\n"
          ]
        }
      ]
    },
    {
      "cell_type": "code",
      "source": [
        "x=[[1,2,3],[5,6,7]]\n",
        "print(\"adding all elements in an array \",np.sum(x))\n",
        "x=[2,3,4]\n",
        "y=[6,7,8]\n",
        "print(\"adding all elements in different array\",np.sum([x,y])"
      ],
      "metadata": {
        "colab": {
          "base_uri": "https://localhost:8080/"
        },
        "id": "eGBGZiYpt-B8",
        "outputId": "ac18d665-656c-4596-e2b3-bfefa4d1387b"
      },
      "execution_count": null,
      "outputs": [
        {
          "output_type": "execute_result",
          "data": {
            "text/plain": [
              "30"
            ]
          },
          "metadata": {},
          "execution_count": 52
        }
      ]
    },
    {
      "cell_type": "code",
      "source": [],
      "metadata": {
        "id": "trg7R0hSueux"
      },
      "execution_count": null,
      "outputs": []
    },
    {
      "cell_type": "code",
      "source": [],
      "metadata": {
        "id": "XecQq4_JuXtp"
      },
      "execution_count": null,
      "outputs": []
    }
  ]
}